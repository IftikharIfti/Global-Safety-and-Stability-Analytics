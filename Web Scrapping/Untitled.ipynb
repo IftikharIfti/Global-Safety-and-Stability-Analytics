{
 "cells": [
  {
   "cell_type": "markdown",
   "id": "748585ca",
   "metadata": {},
   "source": [
    "### Websites to scrap\n",
    "\n",
    "Global intentional homicide rates\n",
    "https://dataunodc.un.org/dp-intentional-homicide-victims\n",
    "\n",
    "\n",
    "Global Crime Index:\n",
    "https://www.numbeo.com/crime/rankings_by_country.jsp\n",
    "\n",
    "Global Health index:\n",
    "https://www.numbeo.com/health-care/rankings_by_country.jsp\n",
    "\n",
    "GDP per capita index:\n",
    "https://wits.worldbank.org/CountryProfile/en/Country/BY-COUNTRY/StartYear/2010/EndYear/2022/Indicator/NY-GDP-PCAP-CD\n"
   ]
  },
  {
   "cell_type": "code",
   "execution_count": 1,
   "id": "e66cad88",
   "metadata": {},
   "outputs": [],
   "source": [
    "from selenium import webdriver\n",
    "from selenium.webdriver.common.by import By\n",
    "from selenium.webdriver.chrome.service import Service\n",
    "from selenium.webdriver.support.ui import WebDriverWait\n",
    "from selenium.webdriver.support import expected_conditions as EC\n",
    "from selenium.webdriver.support.ui import Select\n",
    "import time\n",
    "import pandas as pd"
   ]
  },
  {
   "cell_type": "code",
   "execution_count": 2,
   "id": "fa269f7e",
   "metadata": {},
   "outputs": [],
   "source": [
    "webdriver_path = r\"f:\\necessary files 2\\chromedriver-win64\\chromedriver-win64\\chromedriver.exe\"\n"
   ]
  },
  {
   "cell_type": "code",
   "execution_count": null,
   "id": "6cf389b6",
   "metadata": {},
   "outputs": [],
   "source": []
  }
 ],
 "metadata": {
  "kernelspec": {
   "display_name": "Python 3 (ipykernel)",
   "language": "python",
   "name": "python3"
  },
  "language_info": {
   "codemirror_mode": {
    "name": "ipython",
    "version": 3
   },
   "file_extension": ".py",
   "mimetype": "text/x-python",
   "name": "python",
   "nbconvert_exporter": "python",
   "pygments_lexer": "ipython3",
   "version": "3.10.0"
  }
 },
 "nbformat": 4,
 "nbformat_minor": 5
}
