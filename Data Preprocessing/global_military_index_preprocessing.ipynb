{
 "cells": [
  {
   "cell_type": "code",
   "execution_count": 46,
   "id": "85249e57",
   "metadata": {},
   "outputs": [],
   "source": [
    "import pandas as pd  \n",
    "import os\n"
   ]
  },
  {
   "cell_type": "code",
   "execution_count": 47,
   "id": "a49255b6",
   "metadata": {},
   "outputs": [],
   "source": [
    "csv_path = os.path.join('..', 'Web Scrapping', 'raw_gmi_data.csv')\n",
    "\n",
    "# Read the CSV file\n",
    "gmi_df = pd.read_csv(csv_path)  # Using pandas"
   ]
  },
  {
   "cell_type": "code",
   "execution_count": 48,
   "id": "1955f1ae",
   "metadata": {},
   "outputs": [
    {
     "data": {
      "text/html": [
       "<div>\n",
       "<style scoped>\n",
       "    .dataframe tbody tr th:only-of-type {\n",
       "        vertical-align: middle;\n",
       "    }\n",
       "\n",
       "    .dataframe tbody tr th {\n",
       "        vertical-align: top;\n",
       "    }\n",
       "\n",
       "    .dataframe thead th {\n",
       "        text-align: right;\n",
       "    }\n",
       "</style>\n",
       "<table border=\"1\" class=\"dataframe\">\n",
       "  <thead>\n",
       "    <tr style=\"text-align: right;\">\n",
       "      <th></th>\n",
       "      <th>Year</th>\n",
       "      <th>Country</th>\n",
       "      <th>Military Expenditure</th>\n",
       "      <th>Military Personnel</th>\n",
       "      <th>Heavy Weapons</th>\n",
       "      <th>GMI Score</th>\n",
       "      <th>GMI Rank</th>\n",
       "      <th>Score Trend</th>\n",
       "    </tr>\n",
       "  </thead>\n",
       "  <tbody>\n",
       "    <tr>\n",
       "      <th>0</th>\n",
       "      <td>1990</td>\n",
       "      <td>Kuwait</td>\n",
       "      <td>6.40</td>\n",
       "      <td>0.81</td>\n",
       "      <td>2.85</td>\n",
       "      <td>413</td>\n",
       "      <td>1</td>\n",
       "      <td>-</td>\n",
       "    </tr>\n",
       "    <tr>\n",
       "      <th>1</th>\n",
       "      <td>1990</td>\n",
       "      <td>Israel</td>\n",
       "      <td>3.52</td>\n",
       "      <td>2.96</td>\n",
       "      <td>4.00</td>\n",
       "      <td>387</td>\n",
       "      <td>2</td>\n",
       "      <td>-</td>\n",
       "    </tr>\n",
       "    <tr>\n",
       "      <th>2</th>\n",
       "      <td>1990</td>\n",
       "      <td>Singapore</td>\n",
       "      <td>2.61</td>\n",
       "      <td>3.07</td>\n",
       "      <td>2.71</td>\n",
       "      <td>344</td>\n",
       "      <td>3</td>\n",
       "      <td>-</td>\n",
       "    </tr>\n",
       "    <tr>\n",
       "      <th>3</th>\n",
       "      <td>1990</td>\n",
       "      <td>Syria</td>\n",
       "      <td>2.80</td>\n",
       "      <td>1.91</td>\n",
       "      <td>3.04</td>\n",
       "      <td>318</td>\n",
       "      <td>4</td>\n",
       "      <td>-</td>\n",
       "    </tr>\n",
       "    <tr>\n",
       "      <th>4</th>\n",
       "      <td>1990</td>\n",
       "      <td>Jordan</td>\n",
       "      <td>2.86</td>\n",
       "      <td>1.74</td>\n",
       "      <td>2.98</td>\n",
       "      <td>311</td>\n",
       "      <td>5</td>\n",
       "      <td>-</td>\n",
       "    </tr>\n",
       "    <tr>\n",
       "      <th>5</th>\n",
       "      <td>1990</td>\n",
       "      <td>Saudi Arabia</td>\n",
       "      <td>4.86</td>\n",
       "      <td>0.41</td>\n",
       "      <td>2.28</td>\n",
       "      <td>309</td>\n",
       "      <td>6</td>\n",
       "      <td>-</td>\n",
       "    </tr>\n",
       "    <tr>\n",
       "      <th>6</th>\n",
       "      <td>1990</td>\n",
       "      <td>Qatar</td>\n",
       "      <td>3.57</td>\n",
       "      <td>0.84</td>\n",
       "      <td>2.79</td>\n",
       "      <td>295</td>\n",
       "      <td>7</td>\n",
       "      <td>-</td>\n",
       "    </tr>\n",
       "    <tr>\n",
       "      <th>7</th>\n",
       "      <td>1990</td>\n",
       "      <td>Mongolia</td>\n",
       "      <td>2.67</td>\n",
       "      <td>1.39</td>\n",
       "      <td>3.07</td>\n",
       "      <td>292</td>\n",
       "      <td>8</td>\n",
       "      <td>-</td>\n",
       "    </tr>\n",
       "    <tr>\n",
       "      <th>8</th>\n",
       "      <td>1990</td>\n",
       "      <td>Brunei</td>\n",
       "      <td>3.29</td>\n",
       "      <td>1.30</td>\n",
       "      <td>2.30</td>\n",
       "      <td>282</td>\n",
       "      <td>9</td>\n",
       "      <td>-</td>\n",
       "    </tr>\n",
       "    <tr>\n",
       "      <th>9</th>\n",
       "      <td>1990</td>\n",
       "      <td>Cyprus</td>\n",
       "      <td>3.11</td>\n",
       "      <td>1.83</td>\n",
       "      <td>2.61</td>\n",
       "      <td>279</td>\n",
       "      <td>10</td>\n",
       "      <td>-</td>\n",
       "    </tr>\n",
       "  </tbody>\n",
       "</table>\n",
       "</div>"
      ],
      "text/plain": [
       "   Year       Country  Military Expenditure  Military Personnel  \\\n",
       "0  1990        Kuwait                  6.40                0.81   \n",
       "1  1990        Israel                  3.52                2.96   \n",
       "2  1990     Singapore                  2.61                3.07   \n",
       "3  1990         Syria                  2.80                1.91   \n",
       "4  1990        Jordan                  2.86                1.74   \n",
       "5  1990  Saudi Arabia                  4.86                0.41   \n",
       "6  1990         Qatar                  3.57                0.84   \n",
       "7  1990      Mongolia                  2.67                1.39   \n",
       "8  1990        Brunei                  3.29                1.30   \n",
       "9  1990        Cyprus                  3.11                1.83   \n",
       "\n",
       "   Heavy Weapons  GMI Score  GMI Rank Score Trend  \n",
       "0           2.85        413         1           -  \n",
       "1           4.00        387         2           -  \n",
       "2           2.71        344         3           -  \n",
       "3           3.04        318         4           -  \n",
       "4           2.98        311         5           -  \n",
       "5           2.28        309         6           -  \n",
       "6           2.79        295         7           -  \n",
       "7           3.07        292         8           -  \n",
       "8           2.30        282         9           -  \n",
       "9           2.61        279        10           -  "
      ]
     },
     "execution_count": 48,
     "metadata": {},
     "output_type": "execute_result"
    }
   ],
   "source": [
    "gmi_df.head(10)"
   ]
  },
  {
   "cell_type": "code",
   "execution_count": 49,
   "id": "15c8dd39",
   "metadata": {},
   "outputs": [
    {
     "data": {
      "text/plain": [
       "['Year',\n",
       " 'Country',\n",
       " 'Military Expenditure',\n",
       " 'Military Personnel',\n",
       " 'Heavy Weapons',\n",
       " 'GMI Score',\n",
       " 'GMI Rank',\n",
       " 'Score Trend']"
      ]
     },
     "execution_count": 49,
     "metadata": {},
     "output_type": "execute_result"
    }
   ],
   "source": [
    "gmi_df.columns.tolist() #check all the columns "
   ]
  },
  {
   "cell_type": "code",
   "execution_count": 50,
   "id": "5bf29399",
   "metadata": {},
   "outputs": [],
   "source": [
    "columns_to_drop=['Military Expenditure',\n",
    " 'Military Personnel',\n",
    " 'Heavy Weapons','Score Trend','GMI Rank']"
   ]
  },
  {
   "cell_type": "code",
   "execution_count": 51,
   "id": "8cc99cd2",
   "metadata": {},
   "outputs": [],
   "source": [
    "gmi_df.drop(columns_to_drop,axis=1,inplace=True)"
   ]
  },
  {
   "cell_type": "code",
   "execution_count": 52,
   "id": "28c3041d",
   "metadata": {},
   "outputs": [
    {
     "data": {
      "text/html": [
       "<div>\n",
       "<style scoped>\n",
       "    .dataframe tbody tr th:only-of-type {\n",
       "        vertical-align: middle;\n",
       "    }\n",
       "\n",
       "    .dataframe tbody tr th {\n",
       "        vertical-align: top;\n",
       "    }\n",
       "\n",
       "    .dataframe thead th {\n",
       "        text-align: right;\n",
       "    }\n",
       "</style>\n",
       "<table border=\"1\" class=\"dataframe\">\n",
       "  <thead>\n",
       "    <tr style=\"text-align: right;\">\n",
       "      <th></th>\n",
       "      <th>Year</th>\n",
       "      <th>Country</th>\n",
       "      <th>GMI Score</th>\n",
       "    </tr>\n",
       "  </thead>\n",
       "  <tbody>\n",
       "    <tr>\n",
       "      <th>0</th>\n",
       "      <td>1990</td>\n",
       "      <td>Kuwait</td>\n",
       "      <td>413</td>\n",
       "    </tr>\n",
       "    <tr>\n",
       "      <th>1</th>\n",
       "      <td>1990</td>\n",
       "      <td>Israel</td>\n",
       "      <td>387</td>\n",
       "    </tr>\n",
       "    <tr>\n",
       "      <th>2</th>\n",
       "      <td>1990</td>\n",
       "      <td>Singapore</td>\n",
       "      <td>344</td>\n",
       "    </tr>\n",
       "    <tr>\n",
       "      <th>3</th>\n",
       "      <td>1990</td>\n",
       "      <td>Syria</td>\n",
       "      <td>318</td>\n",
       "    </tr>\n",
       "    <tr>\n",
       "      <th>4</th>\n",
       "      <td>1990</td>\n",
       "      <td>Jordan</td>\n",
       "      <td>311</td>\n",
       "    </tr>\n",
       "    <tr>\n",
       "      <th>5</th>\n",
       "      <td>1990</td>\n",
       "      <td>Saudi Arabia</td>\n",
       "      <td>309</td>\n",
       "    </tr>\n",
       "    <tr>\n",
       "      <th>6</th>\n",
       "      <td>1990</td>\n",
       "      <td>Qatar</td>\n",
       "      <td>295</td>\n",
       "    </tr>\n",
       "    <tr>\n",
       "      <th>7</th>\n",
       "      <td>1990</td>\n",
       "      <td>Mongolia</td>\n",
       "      <td>292</td>\n",
       "    </tr>\n",
       "    <tr>\n",
       "      <th>8</th>\n",
       "      <td>1990</td>\n",
       "      <td>Brunei</td>\n",
       "      <td>282</td>\n",
       "    </tr>\n",
       "    <tr>\n",
       "      <th>9</th>\n",
       "      <td>1990</td>\n",
       "      <td>Cyprus</td>\n",
       "      <td>279</td>\n",
       "    </tr>\n",
       "  </tbody>\n",
       "</table>\n",
       "</div>"
      ],
      "text/plain": [
       "   Year       Country  GMI Score\n",
       "0  1990        Kuwait        413\n",
       "1  1990        Israel        387\n",
       "2  1990     Singapore        344\n",
       "3  1990         Syria        318\n",
       "4  1990        Jordan        311\n",
       "5  1990  Saudi Arabia        309\n",
       "6  1990         Qatar        295\n",
       "7  1990      Mongolia        292\n",
       "8  1990        Brunei        282\n",
       "9  1990        Cyprus        279"
      ]
     },
     "execution_count": 52,
     "metadata": {},
     "output_type": "execute_result"
    }
   ],
   "source": [
    "gmi_df.head(10)"
   ]
  },
  {
   "cell_type": "code",
   "execution_count": 40,
   "id": "fc29f39c",
   "metadata": {},
   "outputs": [
    {
     "data": {
      "text/plain": [
       "['Year', 'Country', 'GMI Score']"
      ]
     },
     "execution_count": 40,
     "metadata": {},
     "output_type": "execute_result"
    }
   ],
   "source": [
    "gmi_df.columns.tolist() #check all the columns again"
   ]
  },
  {
   "cell_type": "code",
   "execution_count": 53,
   "id": "cbf670de",
   "metadata": {},
   "outputs": [
    {
     "data": {
      "text/plain": [
       "Year         0\n",
       "Country      0\n",
       "GMI Score    0\n",
       "dtype: int64"
      ]
     },
     "execution_count": 53,
     "metadata": {},
     "output_type": "execute_result"
    }
   ],
   "source": [
    "gmi_df.isna().sum() # check any null values"
   ]
  },
  {
   "cell_type": "code",
   "execution_count": 54,
   "id": "2dfdd2d2",
   "metadata": {},
   "outputs": [
    {
     "name": "stdout",
     "output_type": "stream",
     "text": [
      "32\n",
      "2021\n",
      "1990\n",
      "32\n"
     ]
    }
   ],
   "source": [
    "print(len(gmi_df['Year'].unique())) # total unique year value\n",
    "print(gmi_df['Year'].max()) #max year\n",
    "print(gmi_df['Year'].min()) #min year\n",
    "print(gmi_df['Year'].max()-gmi_df['Year'].min()+1) #looks like all years from 1990 to 2021 exist"
   ]
  },
  {
   "cell_type": "code",
   "execution_count": 55,
   "id": "0d5b2f0e",
   "metadata": {},
   "outputs": [],
   "source": [
    "all_years = range(1990, 2022)  # 2021 inclusive\n",
    "\n",
    "# Create a pivot table with countries as rows and years as columns\n",
    "pivot_df = (\n",
    "    gmi_df.pivot_table(\n",
    "        index='Country',\n",
    "        columns='Year',\n",
    "        values='GMI Score',\n",
    "        aggfunc='first'  # Takes the first occurrence if duplicates exist\n",
    "    )\n",
    "    .reindex(columns=all_years)  # Ensure all years are present as columns\n",
    "    .sort_index(axis=0)  # Sort countries alphabetically\n",
    "    .reset_index()       # Move Country from index to column\n",
    ")\n",
    "\n",
    "# Rename the columns to match your requirements\n",
    "pivot_df.columns.name = None  # Remove the 'Year' label from columns\n",
    "pivot_df = pivot_df.rename(columns={'Country': 'Country'})"
   ]
  },
  {
   "cell_type": "markdown",
   "id": "1bdc9884",
   "metadata": {},
   "source": [
    " Handle missing values. Fill null values with mean"
   ]
  },
  {
   "cell_type": "code",
   "execution_count": 56,
   "id": "505f7ccd",
   "metadata": {},
   "outputs": [],
   "source": [
    "# Fill NaN values with the respective country's mean\n",
    "pivot_df = pivot_df.set_index(\"Country\").apply(lambda row: row.fillna(row.mean()), axis=1).reset_index()"
   ]
  },
  {
   "cell_type": "code",
   "execution_count": 57,
   "id": "f80b19fb",
   "metadata": {},
   "outputs": [
    {
     "data": {
      "text/plain": [
       "Country    0\n",
       "1990       0\n",
       "1991       0\n",
       "1992       0\n",
       "1993       0\n",
       "1994       0\n",
       "1995       0\n",
       "1996       0\n",
       "1997       0\n",
       "1998       0\n",
       "1999       0\n",
       "2000       0\n",
       "2001       0\n",
       "2002       0\n",
       "2003       0\n",
       "2004       0\n",
       "2005       0\n",
       "2006       0\n",
       "2007       0\n",
       "2008       0\n",
       "2009       0\n",
       "2010       0\n",
       "2011       0\n",
       "2012       0\n",
       "2013       0\n",
       "2014       0\n",
       "2015       0\n",
       "2016       0\n",
       "2017       0\n",
       "2018       0\n",
       "2019       0\n",
       "2020       0\n",
       "2021       0\n",
       "dtype: int64"
      ]
     },
     "execution_count": 57,
     "metadata": {},
     "output_type": "execute_result"
    }
   ],
   "source": [
    "pivot_df.isna().sum()"
   ]
  },
  {
   "cell_type": "code",
   "execution_count": 58,
   "id": "440dc270",
   "metadata": {},
   "outputs": [],
   "source": [
    "pivot_df.to_csv('global_military_index.csv',index=False)"
   ]
  },
  {
   "cell_type": "code",
   "execution_count": null,
   "id": "ae0c9b32",
   "metadata": {},
   "outputs": [],
   "source": []
  }
 ],
 "metadata": {
  "kernelspec": {
   "display_name": "Python 3 (ipykernel)",
   "language": "python",
   "name": "python3"
  },
  "language_info": {
   "codemirror_mode": {
    "name": "ipython",
    "version": 3
   },
   "file_extension": ".py",
   "mimetype": "text/x-python",
   "name": "python",
   "nbconvert_exporter": "python",
   "pygments_lexer": "ipython3",
   "version": "3.10.0"
  }
 },
 "nbformat": 4,
 "nbformat_minor": 5
}
