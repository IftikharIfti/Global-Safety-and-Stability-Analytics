{
 "cells": [
  {
   "cell_type": "code",
   "execution_count": 1,
   "id": "12915b2a",
   "metadata": {},
   "outputs": [],
   "source": [
    "import pandas as pd  \n",
    "import os\n"
   ]
  },
  {
   "cell_type": "code",
   "execution_count": null,
   "id": "51d5aa3d",
   "metadata": {},
   "outputs": [],
   "source": [
    "csv_path = os.path.join('..', 'Web Scrapping', 'data_cts_intentional_homicide.xlsx')\n",
    "\n",
    "\n",
    "# Load the CSV files into dataframes\n",
    "homicide_count_df = pd.read_csv(\"global_intentional_homicide_count.csv\")\n",
    "homicide_conviction_df = pd.read_csv(\"global_homicide_conviction_count.csv\")\n",
    "\n",
    "# Ensure the dataframes align by sorting columns (except 'Country') and index\n",
    "homicide_count_df = homicide_count_df.sort_index(axis=1)\n",
    "homicide_conviction_df = homicide_conviction_df.sort_index(axis=1)\n",
    "\n",
    "# Extract the 'Country' column\n",
    "countries = homicide_count_df['Country']\n",
    "\n",
    "# Exclude 'Country' column to perform division only on year columns\n",
    "homicide_count_data = homicide_count_df.drop(columns=['Country'])\n",
    "homicide_conviction_data = homicide_conviction_df.drop(columns=['Country'])\n",
    "\n",
    "# Calculate the homicide justice rate\n",
    "homicide_justice_rate = homicide_count_data / homicide_conviction_data\n",
    "\n",
    "# Add the 'Country' column back\n",
    "homicide_justice_rate.insert(0, 'Country', countries)\n",
    "\n",
    "# Save the resulting dataframe to a new CSV file\n",
    "homicide_justice_rate.to_csv(\"homicide_justice_rate.csv\", index=False)\n",
    "\n",
    "print(\"homicide_justice_rate.csv has been created successfully.\")"
   ]
  }
 ],
 "metadata": {
  "kernelspec": {
   "display_name": "Python 3 (ipykernel)",
   "language": "python",
   "name": "python3"
  },
  "language_info": {
   "codemirror_mode": {
    "name": "ipython",
    "version": 3
   },
   "file_extension": ".py",
   "mimetype": "text/x-python",
   "name": "python",
   "nbconvert_exporter": "python",
   "pygments_lexer": "ipython3",
   "version": "3.10.0"
  }
 },
 "nbformat": 4,
 "nbformat_minor": 5
}
